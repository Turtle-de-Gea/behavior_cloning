{
 "cells": [
  {
   "cell_type": "markdown",
   "metadata": {},
   "source": [
    "# Loading and Prepping the odometry data"
   ]
  },
  {
   "cell_type": "code",
   "execution_count": 1,
   "metadata": {},
   "outputs": [
    {
     "data": {
      "image/png": "[encoded data removed]",
      "text/plain": [
       "<matplotlib.figure.Figure at 0x7fe7d8e5ba90>"
      ]
     },
     "metadata": {},
     "output_type": "display_data"
    }
   ],
   "source": [
    "%matplotlib inline\n",
    "import numpy as np\n",
    "from numpy import sin, cos\n",
    "from matplotlib import pyplot as plt\n",
    "pos_init = np.zeros(shape=(2,1))\n",
    "pos = pos_init\n",
    "trajectory = pos\n",
    "\n",
    "# Read ODOM\n",
    "traj_file = open(\"../data/odom_polygon.txt\", \"r\")\n",
    "stream_ = traj_file.readlines()\n",
    "stream_ = [x.strip() for x in stream_]\n",
    "\n",
    "dt = 1/10\n",
    "\n",
    "for i in range(1, len(stream_)):\n",
    "    tokens_ = stream_[i].split(' ')\n",
    "    # v, omega = float(tokens_[0]), float(tokens_[1])\n",
    "    # pos = np.array([pos[0]+v*dt*cos(pos[2]), pos[1]+v*dt*sin(pos[2]), pos[2]+dt*omega]).reshape(-1, 1)\n",
    "    pos = np.array([float(tokens_[0]), float(tokens_[1])]).reshape(2,1)\n",
    "    trajectory = np.concatenate((trajectory, pos), axis=1)\n",
    "\n",
    "# also consider doing scatter\n",
    "plt.plot(trajectory[0,:], trajectory[1,:], )\n",
    "\n",
    "\n",
    "## Convert the plot into an image, which we can then use for hough transform\n",
    "plt.axis('off')\n",
    "import io\n",
    "from PIL import Image\n",
    "buf = io.BytesIO()   # this alows us to \"save\" the image to memory!!\n",
    "plt.savefig(buf, format='png')\n",
    "buf.seek(0)\n",
    "im = Image.open(buf)\n",
    "im.show()  # shows you what the image looks like"
   ]
  },
  {
   "cell_type": "markdown",
   "metadata": {},
   "source": [
    "# DO hough shit"
   ]
  },
  {
   "cell_type": "code",
   "execution_count": 22,
   "metadata": {},
   "outputs": [],
   "source": [
    "import cv2\n",
    "img = np.array(im)\n",
    "gray = cv2.cvtColor(img,cv2.COLOR_RGB2GRAY)\n",
    "equ = cv2.bitwise_not(cv2.equalizeHist(gray))\n",
    "#edges = cv2.Canny(equ,50,150,apertureSize = 3)\n",
    "#img3 = Image.fromarray(equ)\n",
    "#img3.show()\n",
    "\n",
    "# distance resolution\n",
    "d = 1  # distance resolution\n",
    "# t = np.pi/18 # theta resolution\n",
    "t = np.pi/10\n",
    "thresh = 10\n",
    "sdn = 1\n",
    "stn = 1\n",
    "lines = cv2.HoughLines(equ, d, t, thresh, sdn, stn)\n",
    "for i in range(len(lines)):\n",
    "    if i>8:\n",
    "        break\n",
    "    for rho,theta in lines[i]:\n",
    "        a = np.cos(theta)\n",
    "        b = np.sin(theta)\n",
    "        x0 = a*rho\n",
    "        y0 = b*rho\n",
    "        x1 = int(x0 + 1000*(-b))\n",
    "        y1 = int(y0 + 1000*(a))\n",
    "        x2 = int(x0 - 1000*(-b))\n",
    "        y2 = int(y0 - 1000*(a))\n",
    "\n",
    "        cv2.line(img,(x1,y1),(x2,y2),(0,0,255),2)\n",
    "        \n",
    "img_d = Image.fromarray(img)\n",
    "img_d.show()\n",
    "#cv2.imwrite('m1.jpg'.format(i),img)"
   ]
  },
  {
   "cell_type": "code",
   "execution_count": 16,
   "metadata": {},
   "outputs": [
    {
     "name": "stderr",
     "output_type": "stream",
     "text": [
      "/home/jayant/miniconda3/lib/python3.6/site-packages/ipykernel_launcher.py:10: RuntimeWarning: invalid value encountered in float_scalars\n",
      "  # Remove the CWD from sys.path while we load stuff.\n"
     ]
    }
   ],
   "source": [
    "max_rho = max(im.size)\n",
    "n = len(lines)\n",
    "intersections = []\n",
    "for i in range(8):\n",
    "    line1 = lines[i]\n",
    "    rho1, theta1 = line1[0,0], line1[0,1]\n",
    "    for j in range(8):\n",
    "        line2 = lines[j]\n",
    "        rho2, theta2 = line2[0,0], line2[0,1]\n",
    "        theta = np.arctan((rho1 * np.cos(theta2) - rho2 * np.cos(theta1))/(rho2 * np.sin(theta1) - rho1 * np.sin(theta2)))\n",
    "        if 0 <= theta <= np.pi/2:\n",
    "            rho = rho1 / np.cos(theta - theta1)\n",
    "            if 0 < rho <= max_rho:\n",
    "                intersections.append((rho, theta, theta*180/np.pi))"
   ]
  },
  {
   "cell_type": "code",
   "execution_count": 9,
   "metadata": {},
   "outputs": [],
   "source": [
    "intersections.sort(key=lambda tup: tup[1])    # sort by theta, not sure if this is helpful\n",
    "pts = []\n",
    "for rho, theta, _ in intersections:\n",
    "    x = int(rho * np.cos(theta))\n",
    "    y = int(rho * np.sin(theta))\n",
    "    pts.append((x,y))\n",
    "    "
   ]
  },
  {
   "cell_type": "code",
   "execution_count": 10,
   "metadata": {},
   "outputs": [],
   "source": [
    "from collections import defaultdict"
   ]
  },
  {
   "cell_type": "code",
   "execution_count": 27,
   "metadata": {},
   "outputs": [
    {
     "name": "stdout",
     "output_type": "stream",
     "text": [
      "Got 8 points\n"
     ]
    }
   ],
   "source": [
    "condensed_pts = defaultdict(list)\n",
    "\n",
    "for (x,y) in pts:\n",
    "    new = True\n",
    "    for (x2,y2),cluster in condensed_pts.items():\n",
    "        dist = np.sqrt((x2-x) ** 2 + (y2-y) ** 2)\n",
    "        # print(dist)\n",
    "        if dist < 40:\n",
    "            new = False\n",
    "            break\n",
    "    if new:\n",
    "        condensed_pts[(x,y)] = [(x,y)]\n",
    "    else:\n",
    "        del(condensed_pts[(x2,y2)])\n",
    "        cluster.append((x,y))\n",
    "        new_center = tuple(np.array(cluster).mean(axis=0))\n",
    "        condensed_pts[new_center] = cluster\n",
    "\n",
    "final_pts = condensed_pts.keys()\n",
    "print('Got {} points'.format(len(final_pts)))\n",
    "for pt in final_pts:\n",
    "    x, y = tuple(map(int, pt))\n",
    "    cv2.circle(img, (x,y), 10, (255,0,0))\n",
    "    \n",
    "img_pts = Image.fromarray(img)\n",
    "img_pts.show()\n"
   ]
  },
  {
   "cell_type": "code",
   "execution_count": 26,
   "metadata": {},
   "outputs": [],
   "source": [
    "img_pts.save('res.png')"
   ]
  },
  {
   "cell_type": "markdown",
   "metadata": {},
   "source": [
    "# Experimental 1: Probablistic hough transform (note the \"P\" in  HOughLInesP)"
   ]
  },
  {
   "cell_type": "code",
   "execution_count": 20,
   "metadata": {},
   "outputs": [
    {
     "data": {
      "text/plain": [
       "True"
      ]
     },
     "execution_count": 20,
     "metadata": {},
     "output_type": "execute_result"
    }
   ],
   "source": [
    "\n",
    "import cv2\n",
    "img = np.array(im)\n",
    "gray = cv2.cvtColor(img,cv2.COLOR_RGB2GRAY)\n",
    "equ = cv2.bitwise_not(cv2.equalizeHist(gray))\n",
    "\n",
    "minLineLength = 10\n",
    "maxLineGap = 3\n",
    "d = 2\n",
    "t = np.pi/18\n",
    "thresh = 10\n",
    "n_keep = 25\n",
    "lines = cv2.HoughLinesP(equ,d, t, thresh, minLineLength, maxLineGap)\n",
    "for i in range(n_keep):\n",
    "    # get line center points\n",
    "    for x1,y1,x2,y2 in lines[i]:\n",
    "        center = x1, y1\n",
    "        cv2.line(img,(x1,y1),(x2,y2),(0,255,0),2,)\n",
    "img_d = Image.fromarray(img)\n",
    "img_d.show()\n",
    "cv2.imwrite('m2.jpg'.format(i),img)"
   ]
  },
  {
   "cell_type": "markdown",
   "metadata": {},
   "source": [
    "# EXPERIMENTAL 2: Clustering in Hough space (Currently, using )\n",
    "If I were you, I'd just ignore the rest of this notebook. Ask Q if you're interested."
   ]
  },
  {
   "cell_type": "code",
   "execution_count": 152,
   "metadata": {},
   "outputs": [
    {
     "ename": "SyntaxError",
     "evalue": "invalid syntax (<ipython-input-152-6dbc7aec37d5>, line 55)",
     "output_type": "error",
     "traceback": [
      "\u001b[0;36m  File \u001b[0;32m\"<ipython-input-152-6dbc7aec37d5>\"\u001b[0;36m, line \u001b[0;32m55\u001b[0m\n\u001b[0;31m    h =\u001b[0m\n\u001b[0m        ^\u001b[0m\n\u001b[0;31mSyntaxError\u001b[0m\u001b[0;31m:\u001b[0m invalid syntax\n"
     ]
    }
   ],
   "source": [
    "import numpy as np\n",
    "from matplotlib import cm\n",
    "from sklearn import cluster\n",
    "import psutil\n",
    "from skimage.transform import (hough_line, hough_line_peaks,\n",
    "                               probabilistic_hough_line)\n",
    "h, theta, d = hough_line(equ)\n",
    "h = np.uint16(h)\n",
    "h = np.float64(cv2.resize(h,(180, 180), interpolation = cv2.INTER_CUBIC))\n",
    "#d = np.linspace(-520, 520, 180)\n",
    "#h = cv2.Laplacian(h,cv2.CV_64F)\n",
    "rngs = range(180)\n",
    "\n",
    "response = hough_line_peaks(hspace = h, angles =theta, dists=d)\n",
    "print(response)\n",
    "\n",
    "image = equ\n",
    "ax = plt.gca()\n",
    "ax.imshow(equ, cmap=cm.gray)\n",
    "for i in response:\n",
    "    print(i)\n",
    "    angle = i[0]\n",
    "    dist = i[1]\n",
    "    y0 = (dist - 0 * np.cos(angle)) / np.sin(angle)\n",
    "    y1 = (dist - image.shape[1] * np.cos(angle)) / np.sin(angle)\n",
    "    ax.plot((0, image.shape[1]), (y0, y1), '-r')\n",
    "ax.set_xlim((0, image.shape[1]))\n",
    "ax.set_ylim((image.shape[0], 0))\n",
    "ax.set_axis_off()\n",
    "ax.set_title('Detected lines')\n",
    "\n",
    "# preform clustering on the thing.\n",
    "#print(np.expand_dims(h, 0).shape)\n",
    "#kmeans = cluster.KMeans(n_clusters=8, random_state=0).fit(np.expand_dims(h,0))\n",
    "#kmeans\n",
    "#h = cv2.equalizeHist(h)h = np.uint8(h)\n",
    "h = np.uint8(h)\n",
    "if h.shape[-1] !=3:\n",
    "    h= cv2.cvtColor(h, cv2.COLOR_GRAY2RGB)\n",
    "kernel = 0.5*np.array([[-1,-1,-1], [-1,9,-1], [-1,-1,-1]])\n",
    "blur_kernel = 1*np.array([[1/16, 1/8, 1/16], \n",
    "                        [1/8, 1/4, 1/8],\n",
    "                       [1/16, 1/8, 1/16]\n",
    "                       ])\n",
    "import time\n",
    "sp = 10\n",
    "sr = 10\n",
    "for i in range(5):\n",
    "    #h[h<25] = 0\n",
    "    #dst = np.zeros(shape=(h.shape), dtype = np.float32)\n",
    "    #h = cv2.normalize(h, dst, alpha=0, beta=1, norm_type=cv2.NORM_L1, dtype=cv2.CV_32F)\n",
    "    #h = 255*h\n",
    "    #h = h**1.01"
   ]
  },
  {
   "cell_type": "code",
   "execution_count": 185,
   "metadata": {},
   "outputs": [
    {
     "name": "stdout",
     "output_type": "stream",
     "text": [
      "(array([140., 139.]), array([-1.46549155,  0.83366286]), array([-464.94706449, -391.87680462]))\n",
      "[140. 139.]\n",
      "[-1.46549155  0.83366286]\n",
      "[-464.94706449 -391.87680462]\n"
     ]
    },
    {
     "data": {
      "image/png": "[encoded data removed]",
      "text/plain": [
       "<matplotlib.figure.Figure at 0x7fee10061160>"
      ]
     },
     "metadata": {},
     "output_type": "display_data"
    }
   ],
   "source": [
    "import numpy as np\n",
    "from matplotlib import cm\n",
    "from sklearn import cluster\n",
    "import psutil\n",
    "\n",
    "from skimage.transform import (hough_line, hough_line_peaks,\n",
    "                               probabilistic_hough_line)\n",
    "h, theta, d = hough_line(equ)\n",
    "h = np.uint16(h)\n",
    "h = np.float64(cv2.resize(h,(180, 180), interpolation = cv2.INTER_CUBIC))\n",
    "#d = np.linspace(-520, 520, 180)\n",
    "#h = cv2.Laplacian(h,cv2.CV_64F)\n",
    "rngs = range(180)\n",
    "\n",
    "response = hough_line_peaks(hspace = h, angles =theta, dists=d)\n",
    "print(response)\n",
    "\n",
    "image = equ\n",
    "ax = plt.gca()\n",
    "ax.imshow(equ, cmap=cm.gray)\n",
    "for i in response:\n",
    "    print(i)\n",
    "    angle = i[0]\n",
    "    dist = i[1]\n",
    "    y0 = (dist - 0 * np.cos(angle)) / np.sin(angle)\n",
    "    y1 = (dist - image.shape[1] * np.cos(angle)) / np.sin(angle)\n",
    "    ax.plot((0, image.shape[1]), (y0, y1), '-r')\n",
    "ax.set_xlim((0, image.shape[1]))\n",
    "ax.set_ylim((image.shape[0], 0))\n",
    "ax.set_axis_off()\n",
    "ax.set_title('Detected lines')\n",
    "\n",
    "# preform clustering on the thing.\n",
    "#print(np.expand_dims(h, 0).shape)\n",
    "#kmeans = cluster.KMeans(n_clusters=8, random_state=0).fit(np.expand_dims(h,0))\n",
    "#kmeans\n",
    "#h = cv2.equalizeHist(h)h = np.uint8(h)\n",
    "h = np.uint8(h)\n",
    "if h.shape[-1] !=3:\n",
    "    h= cv2.cvtColor(h, cv2.COLOR_GRAY2RGB)\n",
    "kernel = 0.5*np.array([[-1,-1,-1], [-1,9,-1], [-1,-1,-1]])\n",
    "blur_kernel = 1*np.array([[1/16, 1/8, 1/16], \n",
    "                        [1/8, 1/4, 1/8],\n",
    "                       [1/16, 1/8, 1/16]\n",
    "                       ])\n",
    "import time\n",
    "sp = 20\n",
    "sr = 8\n",
    "for i in range(20):\n",
    "    \n",
    "    cv2.imwrite('{:02}.jpg'.format(i),np.uint8(img_h))\n",
    "    #h[h<25] = 0\n",
    "    #dst = np.zeros(shape=(h.shape), dtype = np.float32)\n",
    "    #h = cv2.normalize(h, dst, alpha=0, beta=1, norm_type=cv2.NORM_L1, dtype=cv2.CV_32F)\n",
    "    #h = 255*h\n",
    "    #h = h**1.01  \n",
    "    h = cv2.filter2D(h, -1, blur_kernel)\n",
    "    h = 255*(h/(np.max(h)))\n",
    "    h[h>250] = 250\n",
    "    h = np.uint8(h)\n",
    "    kernel = np.array([[-1,-1,-1], [-1,4,-1], [-1,-1,-1]])\n",
    "    for i in range(1):\n",
    "        h[h>250] = 200\n",
    "        h =  cv2.pyrMeanShiftFiltering(h, sp, sr)\n",
    "        h[h<50]=0\n",
    "    #h = cv2.filter2D(h, -1, kernel)\n",
    "    \n",
    "    h = cv2.filter2D(h, -1, kernel)\n",
    "    img_h = Image.fromarray(h)\n",
    "    time.sleep(0.5)  \n",
    "    img_h.show()\n",
    "    \n",
    "for proc in psutil.process_iter():\n",
    "    if proc.name() == \"display\":\n",
    "        proc.kill()\n"
   ]
  },
  {
   "cell_type": "code",
   "execution_count": 153,
   "metadata": {},
   "outputs": [],
   "source": [
    "\n",
    "# preform clustering on the thing.\n",
    "#print(np.expand_dims(h, 0).shape)\n",
    "#kmeans = cluster.KMeans(n_clusters=8, random_state=0).fit(np.expand_dims(h,0))\n",
    "#kmeans\n",
    "#h = cv2.equalizeHist(h)h = np.uint8(h)\n",
    "h = np.uint8(h)\n",
    "if h.shape[-1] !=3:\n",
    "    h= cv2.cvtColor(h, cv2.COLOR_GRAY2RGB)\n",
    "kernel = 0.5*np.array([[-1,-1,-1], [-1,9,-1], [-1,-1,-1]])\n",
    "blur_kernel = np.array([[1/16, 1/8, 1/16], \n",
    "                        [1/8, 1/4, 1/8],\n",
    "                       [1/16, 1/8, 1/16]\n",
    "                       ])\n",
    "import time\n",
    "sp = 10\n",
    "sr = 10\n",
    "for i in range(10):\n",
    "    #h[h<25] = 0\n",
    "    #dst = np.zeros(shape=(h.shape), dtype = np.float32)\n",
    "    #h = cv2.normalize(h, dst, alpha=0, beta=1, norm_type=cv2.NORM_L1, dtype=cv2.CV_32F)\n",
    "    #h = 255*h\n",
    "    h = np.uint8(h)\n",
    "    #kernel = np.array([[-1,-1,-1], [-1,5,-1], [-1,-1,-1]])\n",
    "    h =  cv2.pyrMeanShiftFiltering(h, sp, sr)\n",
    "    #h[h<30]=0\n",
    "    #h = cv2.filter2D(h, -1, blur_kernel)\n",
    "    img_h = Image.fromarray(h)\n",
    "    time.sleep(0.5)  \n",
    "    img_h.show()\n",
    "    \n",
    "for proc in psutil.process_iter():\n",
    "    if proc.name() == \"display\":\n",
    "        proc.kill()\n"
   ]
  },
  {
   "cell_type": "code",
   "execution_count": 193,
   "metadata": {},
   "outputs": [
    {
     "ename": "ValueError",
     "evalue": "too many values to unpack (expected 2)",
     "output_type": "error",
     "traceback": [
      "\u001b[0;31m---------------------------------------------------------------------------\u001b[0m",
      "\u001b[0;31mValueError\u001b[0m                                Traceback (most recent call last)",
      "\u001b[0;32m<ipython-input-193-393821ac0cbf>\u001b[0m in \u001b[0;36m<module>\u001b[0;34m()\u001b[0m\n\u001b[1;32m     18\u001b[0m \u001b[0mimage\u001b[0m \u001b[0;34m=\u001b[0m \u001b[0mequ\u001b[0m\u001b[0;34m\u001b[0m\u001b[0m\n\u001b[1;32m     19\u001b[0m \u001b[0max\u001b[0m\u001b[0;34m[\u001b[0m\u001b[0;36m2\u001b[0m\u001b[0;34m]\u001b[0m\u001b[0;34m.\u001b[0m\u001b[0mimshow\u001b[0m\u001b[0;34m(\u001b[0m\u001b[0mequ\u001b[0m\u001b[0;34m,\u001b[0m \u001b[0mcmap\u001b[0m\u001b[0;34m=\u001b[0m\u001b[0mcm\u001b[0m\u001b[0;34m.\u001b[0m\u001b[0mgray\u001b[0m\u001b[0;34m)\u001b[0m\u001b[0;34m\u001b[0m\u001b[0m\n\u001b[0;32m---> 20\u001b[0;31m \u001b[0;32mfor\u001b[0m \u001b[0m_\u001b[0m\u001b[0;34m,\u001b[0m \u001b[0mangle\u001b[0m\u001b[0;34m,\u001b[0m \u001b[0mdist\u001b[0m \u001b[0;32min\u001b[0m \u001b[0mzip\u001b[0m\u001b[0;34m(\u001b[0m\u001b[0;34m*\u001b[0m\u001b[0mhough_line_peaks\u001b[0m\u001b[0;34m(\u001b[0m\u001b[0mhspace\u001b[0m \u001b[0;34m=\u001b[0m \u001b[0mh\u001b[0m\u001b[0;34m,\u001b[0m \u001b[0mangles\u001b[0m \u001b[0;34m=\u001b[0m \u001b[0mtheta\u001b[0m\u001b[0;34m,\u001b[0m \u001b[0mdists\u001b[0m\u001b[0;34m=\u001b[0m\u001b[0md\u001b[0m\u001b[0;34m)\u001b[0m\u001b[0;34m)\u001b[0m\u001b[0;34m:\u001b[0m\u001b[0;34m\u001b[0m\u001b[0m\n\u001b[0m\u001b[1;32m     21\u001b[0m     \u001b[0my0\u001b[0m \u001b[0;34m=\u001b[0m \u001b[0;34m(\u001b[0m\u001b[0mdist\u001b[0m \u001b[0;34m-\u001b[0m \u001b[0;36m0\u001b[0m \u001b[0;34m*\u001b[0m \u001b[0mnp\u001b[0m\u001b[0;34m.\u001b[0m\u001b[0mcos\u001b[0m\u001b[0;34m(\u001b[0m\u001b[0mangle\u001b[0m\u001b[0;34m)\u001b[0m\u001b[0;34m)\u001b[0m \u001b[0;34m/\u001b[0m \u001b[0mnp\u001b[0m\u001b[0;34m.\u001b[0m\u001b[0msin\u001b[0m\u001b[0;34m(\u001b[0m\u001b[0mangle\u001b[0m\u001b[0;34m)\u001b[0m\u001b[0;34m\u001b[0m\u001b[0m\n\u001b[1;32m     22\u001b[0m     \u001b[0my1\u001b[0m \u001b[0;34m=\u001b[0m \u001b[0;34m(\u001b[0m\u001b[0mdist\u001b[0m \u001b[0;34m-\u001b[0m \u001b[0mimage\u001b[0m\u001b[0;34m.\u001b[0m\u001b[0mshape\u001b[0m\u001b[0;34m[\u001b[0m\u001b[0;36m1\u001b[0m\u001b[0;34m]\u001b[0m \u001b[0;34m*\u001b[0m \u001b[0mnp\u001b[0m\u001b[0;34m.\u001b[0m\u001b[0mcos\u001b[0m\u001b[0;34m(\u001b[0m\u001b[0mangle\u001b[0m\u001b[0;34m)\u001b[0m\u001b[0;34m)\u001b[0m \u001b[0;34m/\u001b[0m \u001b[0mnp\u001b[0m\u001b[0;34m.\u001b[0m\u001b[0msin\u001b[0m\u001b[0;34m(\u001b[0m\u001b[0mangle\u001b[0m\u001b[0;34m)\u001b[0m\u001b[0;34m\u001b[0m\u001b[0m\n",
      "\u001b[0;32m~/anaconda3/lib/python3.5/site-packages/skimage/transform/hough_transform.py\u001b[0m in \u001b[0;36mhough_line_peaks\u001b[0;34m(hspace, angles, dists, min_distance, min_angle, threshold, num_peaks)\u001b[0m\n\u001b[1;32m     63\u001b[0m                                \u001b[0mmin_ydistance\u001b[0m\u001b[0;34m=\u001b[0m\u001b[0mmin_distance\u001b[0m\u001b[0;34m,\u001b[0m\u001b[0;34m\u001b[0m\u001b[0m\n\u001b[1;32m     64\u001b[0m                                \u001b[0mthreshold\u001b[0m\u001b[0;34m=\u001b[0m\u001b[0mthreshold\u001b[0m\u001b[0;34m,\u001b[0m\u001b[0;34m\u001b[0m\u001b[0m\n\u001b[0;32m---> 65\u001b[0;31m                                num_peaks=num_peaks)\n\u001b[0m\u001b[1;32m     66\u001b[0m     \u001b[0;32mreturn\u001b[0m \u001b[0;34m(\u001b[0m\u001b[0mh\u001b[0m\u001b[0;34m,\u001b[0m \u001b[0mangles\u001b[0m\u001b[0;34m[\u001b[0m\u001b[0ma\u001b[0m\u001b[0;34m]\u001b[0m\u001b[0;34m,\u001b[0m \u001b[0mdists\u001b[0m\u001b[0;34m[\u001b[0m\u001b[0md\u001b[0m\u001b[0;34m]\u001b[0m\u001b[0;34m)\u001b[0m\u001b[0;34m\u001b[0m\u001b[0m\n\u001b[1;32m     67\u001b[0m \u001b[0;34m\u001b[0m\u001b[0m\n",
      "\u001b[0;32m~/anaconda3/lib/python3.5/site-packages/skimage/feature/peak.py\u001b[0m in \u001b[0;36m_prominent_peaks\u001b[0;34m(image, min_xdistance, min_ydistance, threshold, num_peaks)\u001b[0m\n\u001b[1;32m    225\u001b[0m \u001b[0;34m\u001b[0m\u001b[0m\n\u001b[1;32m    226\u001b[0m     \u001b[0mimg\u001b[0m \u001b[0;34m=\u001b[0m \u001b[0mimage\u001b[0m\u001b[0;34m.\u001b[0m\u001b[0mcopy\u001b[0m\u001b[0;34m(\u001b[0m\u001b[0;34m)\u001b[0m\u001b[0;34m\u001b[0m\u001b[0m\n\u001b[0;32m--> 227\u001b[0;31m     \u001b[0mrows\u001b[0m\u001b[0;34m,\u001b[0m \u001b[0mcols\u001b[0m \u001b[0;34m=\u001b[0m \u001b[0mimg\u001b[0m\u001b[0;34m.\u001b[0m\u001b[0mshape\u001b[0m\u001b[0;34m\u001b[0m\u001b[0m\n\u001b[0m\u001b[1;32m    228\u001b[0m \u001b[0;34m\u001b[0m\u001b[0m\n\u001b[1;32m    229\u001b[0m     \u001b[0;32mif\u001b[0m \u001b[0mthreshold\u001b[0m \u001b[0;32mis\u001b[0m \u001b[0;32mNone\u001b[0m\u001b[0;34m:\u001b[0m\u001b[0;34m\u001b[0m\u001b[0m\n",
      "\u001b[0;31mValueError\u001b[0m: too many values to unpack (expected 2)"
     ]
    },
    {
     "data": {
      "image/png": "[encoded data removed]",
      "text/plain": [
       "<matplotlib.figure.Figure at 0x7f0e65fbd860>"
      ]
     },
     "metadata": {},
     "output_type": "display_data"
    }
   ],
   "source": [
    "# Generating figure 1\n",
    "fig, axes = plt.subplots(3, 1, figsize=(10, 10))\n",
    "ax = axes.ravel()\n",
    "\n",
    "ax[0].imshow(equ, cmap=cm.gray)\n",
    "ax[0].set_title('Input image')\n",
    "ax[0].set_axis_off()\n",
    "\n",
    "#ax[1].imshow(np.log(1 + h),\n",
    " #            extent=[theta[-1], theta[0], d[-1], d[0]],\n",
    "  #           cmap=cm.gray, aspect=1/1.5)\n",
    "ax[1].imshow(h)\n",
    "ax[1].set_title('Hough transform')\n",
    "ax[1].set_xlabel('Angles (degrees)')\n",
    "ax[1].set_ylabel('Distance (pixels)')\n",
    "ax[1].axis('image')\n",
    "\n",
    "image = equ\n",
    "ax[2].imshow(equ, cmap=cm.gray)\n",
    "for _, angle, dist in zip(*hough_line_peaks(hspace = h, angles = theta, dists=d)):\n",
    "    y0 = (dist - 0 * np.cos(angle)) / np.sin(angle)\n",
    "    y1 = (dist - image.shape[1] * np.cos(angle)) / np.sin(angle)\n",
    "    ax[2].plot((0, image.shape[1]), (y0, y1), '-r')\n",
    "ax[2].set_xlim((0, image.shape[1]))\n",
    "ax[2].set_ylim((image.shape[0], 0))\n",
    "ax[2].set_axis_off()\n",
    "ax[2].set_title('Detected lines')\n",
    "\n",
    "plt.show()"
   ]
  },
  {
   "cell_type": "code",
   "execution_count": null,
   "metadata": {},
   "outputs": [],
   "source": [
    "for _, angle, dist in zip(*hough_line_peaks(hspace = h, angles = theta, dists=d)):\n",
    "    y0 = (dist - 0 * np.cos(angle)) / np.sin(angle)\n",
    "    y1 = (dist - image.shape[1] * np.cos(angle)) / np.sin(angle)\n",
    "    ax[2].plot((0, image.shape[1]), (y0, y1), '-r')\n",
    "ax[2].set_xlim((0, image.shape[1]))\n",
    "ax[2].set_ylim((image.shape[0], 0))\n",
    "ax[2].set_axis_off()\n",
    "ax[2].set_title('Detected lines')\n",
    "\n",
    "plt.show()"
   ]
  },
  {
   "cell_type": "code",
   "execution_count": 182,
   "metadata": {},
   "outputs": [
    {
     "ename": "NameError",
     "evalue": "name 'image' is not defined",
     "output_type": "error",
     "traceback": [
      "\u001b[0;31m---------------------------------------------------------------------------\u001b[0m",
      "\u001b[0;31mNameError\u001b[0m                                 Traceback (most recent call last)",
      "\u001b[0;32m<ipython-input-182-bd1f726d78a1>\u001b[0m in \u001b[0;36m<module>\u001b[0;34m()\u001b[0m\n\u001b[1;32m      9\u001b[0m \u001b[0max\u001b[0m \u001b[0;34m=\u001b[0m \u001b[0maxes\u001b[0m\u001b[0;34m.\u001b[0m\u001b[0mravel\u001b[0m\u001b[0;34m(\u001b[0m\u001b[0;34m)\u001b[0m\u001b[0;34m\u001b[0m\u001b[0m\n\u001b[1;32m     10\u001b[0m \u001b[0;34m\u001b[0m\u001b[0m\n\u001b[0;32m---> 11\u001b[0;31m \u001b[0max\u001b[0m\u001b[0;34m[\u001b[0m\u001b[0;36m0\u001b[0m\u001b[0;34m]\u001b[0m\u001b[0;34m.\u001b[0m\u001b[0mimshow\u001b[0m\u001b[0;34m(\u001b[0m\u001b[0mimage\u001b[0m\u001b[0;34m,\u001b[0m \u001b[0mcmap\u001b[0m\u001b[0;34m=\u001b[0m\u001b[0mcm\u001b[0m\u001b[0;34m.\u001b[0m\u001b[0mgray\u001b[0m\u001b[0;34m)\u001b[0m\u001b[0;34m\u001b[0m\u001b[0m\n\u001b[0m\u001b[1;32m     12\u001b[0m \u001b[0max\u001b[0m\u001b[0;34m[\u001b[0m\u001b[0;36m0\u001b[0m\u001b[0;34m]\u001b[0m\u001b[0;34m.\u001b[0m\u001b[0mset_title\u001b[0m\u001b[0;34m(\u001b[0m\u001b[0;34m'Input image'\u001b[0m\u001b[0;34m)\u001b[0m\u001b[0;34m\u001b[0m\u001b[0m\n\u001b[1;32m     13\u001b[0m \u001b[0;34m\u001b[0m\u001b[0m\n",
      "\u001b[0;31mNameError\u001b[0m: name 'image' is not defined"
     ]
    },
    {
     "data": {
      "image/png": "[encoded data removed]",
      "text/plain": [
       "<matplotlib.figure.Figure at 0x7f0e640fd208>"
      ]
     },
     "metadata": {},
     "output_type": "display_data"
    }
   ],
   "source": [
    "\n",
    "\n",
    "# Line finding using the Probabilistic Hough Transform\n",
    "lines = probabilistic_hough_line(equ, threshold=10, line_length=5,\n",
    "                                 line_gap=3)\n",
    "\n",
    "# Generating figure 2\n",
    "fig, axes = plt.subplots(1, 3, figsize=(15, 5), sharex=True, sharey=True)\n",
    "ax = axes.ravel()\n",
    "\n",
    "ax[0].imshow(image, cmap=cm.gray)\n",
    "ax[0].set_title('Input image')\n",
    "\n",
    "ax[1].imshow(equ, cmap=cm.gray)\n",
    "ax[1].set_title('Canny edges')\n",
    "\n",
    "ax[2].imshow(equ * 0)\n",
    "for line in lines:\n",
    "    p0, p1 = line\n",
    "    ax[2].plot((p0[0], p1[0]), (p0[1], p1[1]))\n",
    "ax[2].set_xlim((0, image.shape[1]))\n",
    "ax[2].set_ylim((image.shape[0], 0))\n",
    "ax[2].set_title('Probabilistic Hough')\n",
    "\n",
    "for a in ax:\n",
    "    a.set_axis_off()\n",
    "\n",
    "plt.tight_layout()\n",
    "plt.show()"
   ]
  },
  {
   "cell_type": "code",
   "execution_count": 1,
   "metadata": {},
   "outputs": [
    {
     "ename": "NameError",
     "evalue": "name 'np' is not defined",
     "output_type": "error",
     "traceback": [
      "\u001b[0;31m---------------------------------------------------------------------------\u001b[0m",
      "\u001b[0;31mNameError\u001b[0m                                 Traceback (most recent call last)",
      "\u001b[0;32m<ipython-input-1-fdf74ccf6020>\u001b[0m in \u001b[0;36m<module>\u001b[0;34m()\u001b[0m\n\u001b[1;32m      4\u001b[0m \u001b[0;32mfrom\u001b[0m \u001b[0mitertools\u001b[0m \u001b[0;32mimport\u001b[0m \u001b[0mcycle\u001b[0m\u001b[0;34m,\u001b[0m \u001b[0mislice\u001b[0m\u001b[0;34m\u001b[0m\u001b[0m\n\u001b[1;32m      5\u001b[0m \u001b[0;34m\u001b[0m\u001b[0m\n\u001b[0;32m----> 6\u001b[0;31m \u001b[0mnp\u001b[0m\u001b[0;34m.\u001b[0m\u001b[0mrandom\u001b[0m\u001b[0;34m.\u001b[0m\u001b[0mseed\u001b[0m\u001b[0;34m(\u001b[0m\u001b[0;36m0\u001b[0m\u001b[0;34m)\u001b[0m\u001b[0;34m\u001b[0m\u001b[0m\n\u001b[0m\u001b[1;32m      7\u001b[0m \u001b[0;34m\u001b[0m\u001b[0m\n\u001b[1;32m      8\u001b[0m default_base = {'quantile': .3,\n",
      "\u001b[0;31mNameError\u001b[0m: name 'np' is not defined"
     ]
    }
   ],
   "source": [
    "from sklearn import cluster, datasets, mixture\n",
    "from sklearn.neighbors import kneighbors_graph\n",
    "from sklearn.preprocessing import StandardScaler\n",
    "from itertools import cycle, islice\n",
    "\n",
    "np.random.seed(0)\n",
    "\n",
    "default_base = {'quantile': .3,\n",
    "                'eps': .3,\n",
    "                'damping': .9,\n",
    "                'preference': -200,\n",
    "                'n_neighbors': 10,\n",
    "                'n_clusters': 3}\n",
    "\n",
    "datasets = [\n",
    "    (noisy_circles, {'damping': .77, 'preference': -240,\n",
    "                     'quantile': .2, 'n_clusters': 2}),\n",
    "    (noisy_moons, {'damping': .75, 'preference': -220, 'n_clusters': 2}),\n",
    "    (varied, {'eps': .18, 'n_neighbors': 2}),\n",
    "    (aniso, {'eps': .15, 'n_neighbors': 2}),\n",
    "    (blobs, {}),\n",
    "    (no_structure, {})]\n",
    "\n",
    "for i_dataset, (dataset, algo_params) in enumerate(datasets):\n",
    "    # update parameters with dataset-specific values\n",
    "    params = default_base.copy()\n",
    "    params.update(algo_params)\n",
    "\n",
    "    X, y = dataset\n",
    "\n",
    "    # normalize dataset for easier parameter selection\n",
    "    X = StandardScaler().fit_transform(X)\n",
    "\n",
    "    # estimate bandwidth for mean shift\n",
    "    bandwidth = cluster.estimate_bandwidth(X, quantile=params['quantile'])\n",
    "\n",
    "    # connectivity matrix for structured Ward\n",
    "    connectivity = kneighbors_graph(\n",
    "        X, n_neighbors=params['n_neighbors'], include_self=False)\n",
    "    # make connectivity symmetric\n",
    "    connectivity = 0.5 * (connectivity + connectivity.T)\n",
    "\n",
    "    # ============\n",
    "    # Create cluster objects\n",
    "    # ============\n",
    "    ms = cluster.MeanShift(bandwidth=bandwidth, bin_seeding=True)\n",
    "    two_means = cluster.MiniBatchKMeans(n_clusters=params['n_clusters'])\n",
    "    ward = cluster.AgglomerativeClustering(\n",
    "        n_clusters=params['n_clusters'], linkage='ward',\n",
    "        connectivity=connectivity)\n",
    "    spectral = cluster.SpectralClustering(\n",
    "        n_clusters=params['n_clusters'], eigen_solver='arpack',\n",
    "        affinity=\"nearest_neighbors\")\n",
    "    dbscan = cluster.DBSCAN(eps=params['eps'])\n",
    "    affinity_propagation = cluster.AffinityPropagation(\n",
    "        damping=params['damping'], preference=params['preference'])\n",
    "    average_linkage = cluster.AgglomerativeClustering(\n",
    "        linkage=\"average\", affinity=\"cityblock\",\n",
    "        n_clusters=params['n_clusters'], connectivity=connectivity)\n",
    "    birch = cluster.Birch(n_clusters=params['n_clusters'])\n",
    "    gmm = mixture.GaussianMixture(\n",
    "        n_components=params['n_clusters'], covariance_type='full')\n",
    "\n",
    "    clustering_algorithms = (\n",
    "        ('MiniBatchKMeans', two_means),\n",
    "        ('AffinityPropagation', affinity_propagation),\n",
    "        ('MeanShift', ms),\n",
    "        ('SpectralClustering', spectral),\n",
    "        ('Ward', ward),\n",
    "        ('AgglomerativeClustering', average_linkage),\n",
    "        ('DBSCAN', dbscan),\n",
    "        ('Birch', birch),\n",
    "        ('GaussianMixture', gmm)\n",
    "    )\n",
    "\n",
    "    for name, algorithm in clustering_algorithms:\n",
    "        t0 = time.time()\n",
    "\n",
    "        # catch warnings related to kneighbors_graph\n",
    "        with warnings.catch_warnings():\n",
    "            warnings.filterwarnings(\n",
    "                \"ignore\",\n",
    "                message=\"the number of connected components of the \" +\n",
    "                \"connectivity matrix is [0-9]{1,2}\" +\n",
    "                \" > 1. Completing it to avoid stopping the tree early.\",\n",
    "                category=UserWarning)\n",
    "            warnings.filterwarnings(\n",
    "                \"ignore\",\n",
    "                message=\"Graph is not fully connected, spectral embedding\" +\n",
    "                \" may not work as expected.\",\n",
    "                category=UserWarning)\n",
    "            algorithm.fit(X)\n",
    "\n",
    "        t1 = time.time()\n",
    "        if hasattr(algorithm, 'labels_'):\n",
    "            y_pred = algorithm.labels_.astype(np.int)\n",
    "        else:\n",
    "            y_pred = algorithm.predict(X)\n",
    "\n",
    "        plt.subplot(len(datasets), len(clustering_algorithms), plot_num)\n",
    "        if i_dataset == 0:\n",
    "            plt.title(name, size=18)\n",
    "\n",
    "        colors = np.array(list(islice(cycle(['#377eb8', '#ff7f00', '#4daf4a',\n",
    "                                             '#f781bf', '#a65628', '#984ea3',\n",
    "                                             '#999999', '#e41a1c', '#dede00']),\n",
    "                                      int(max(y_pred) + 1))))\n",
    "        plt.scatter(X[:, 0], X[:, 1], s=10, color=colors[y_pred])\n",
    "\n",
    "        plt.xlim(-2.5, 2.5)\n",
    "        plt.ylim(-2.5, 2.5)\n",
    "        plt.xticks(())\n",
    "        plt.yticks(())\n",
    "        plt.text(.99, .01, ('%.2fs' % (t1 - t0)).lstrip('0'),\n",
    "                 transform=plt.gca().transAxes, size=15,\n",
    "                 horizontalalignment='right')\n",
    "        plot_num += 1\n",
    "\n",
    "plt.show()"
   ]
  },
  {
   "cell_type": "code",
   "execution_count": null,
   "metadata": {},
   "outputs": [],
   "source": []
  }
 ],
 "metadata": {
  "kernelspec": {
   "display_name": "Python 3",
   "language": "python",
   "name": "python3"
  },
  "language_info": {
   "codemirror_mode": {
    "name": "ipython",
    "version": 3
   },
   "file_extension": ".py",
   "mimetype": "text/x-python",
   "name": "python",
   "nbconvert_exporter": "python",
   "pygments_lexer": "ipython3",
   "version": "3.6.2"
  }
 },
 "nbformat": 4,
 "nbformat_minor": 2
}
